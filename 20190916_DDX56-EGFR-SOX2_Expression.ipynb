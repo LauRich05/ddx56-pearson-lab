{
 "cells": [
  {
   "cell_type": "markdown",
   "metadata": {},
   "source": [
    "---\n",
    "## Updated DDX56 Analysis for Pearson Lab\n",
    "L.Richards   \n",
    "September 2019  \n",
    "\n",
    "---\n",
    "\n",
    "1. Expression of DDX56 across all cells in G523\n",
    "2. Co-expression of DDX56 and SOX2 in G523\n",
    "3. Differential gene expression of DDX56+SOX2+ cells versus single negative or double negative in G523 (output list of DE genes in csv, and visualize in heatmap)\n",
    "4. Mike hypothesized that double positive cells (DDX56+SOX2+) have nigher expression of EGFR – confirm this is true at single cell level"
   ]
  },
  {
   "cell_type": "code",
   "execution_count": 3,
   "metadata": {
    "collapsed": true
   },
   "outputs": [],
   "source": [
    "library(ggplot2)\n",
    "library(\"Seurat\", \n",
    "        lib =\"/mnt/work1/users/pughlab/projects/BTSCs_scRNAseq/Manuscript/lib/\" ) #v2.3.4\n",
    "library(reshape2)\n",
    "#library(vioplot)\n",
    "\n",
    "setwd(\"~/Desktop/DDX56_August2019/\")"
   ]
  },
  {
   "cell_type": "code",
   "execution_count": 4,
   "metadata": {
    "collapsed": true
   },
   "outputs": [],
   "source": [
    "### load in processed data for G523_L\n",
    "load(\"~/pughlab/projects/BTSCs_scRNAseq/Manuscript_G607removed/CellCyle_Regression/scClustViz/opt_solution/G523_L_res.0.2.RData\")"
   ]
  },
  {
   "cell_type": "markdown",
   "metadata": {},
   "source": [
    "---\n",
    "## 1.0 Plot expression of DDX56 across all cells in G523\n",
    "---\n",
    "\n",
    "'G523_DDX56_expression.pdf'"
   ]
  },
  {
   "cell_type": "code",
   "execution_count": null,
   "metadata": {
    "collapsed": true
   },
   "outputs": [],
   "source": [
    "pdf(\"G523_DDX56_expression.pdf\")\n",
    "\n",
    "##plot as a tSNE\n",
    "FeaturePlot(object = BTSC, \n",
    "            features.plot = \"DDX56\", \n",
    "            cols.use = c(\"lightgrey\", \"blue\"),\n",
    "            reduction.use = \"tsne\",\n",
    "            no.legend = FALSE\n",
    "           )\n",
    "##plot as UMAP\n",
    "FeaturePlot(object = BTSC, \n",
    "            features.plot = \"DDX56\", \n",
    "            cols.use = c(\"lightgrey\", \"blue\"),\n",
    "            reduction.use = \"umap\",\n",
    "            no.legend = FALSE\n",
    "           )\n",
    "\n",
    "##plot distribution\n",
    "plot(sort(BTSC@data[grep(\"DDX56\", rownames(BTSC@data)), ]),\n",
    "     ylab = \"Normalized DDX56 Expression\",\n",
    "     xlab = \"Sorted Cells\",\n",
    "     main = \"G523_L\"\n",
    "    \n",
    "    )\n",
    "\n",
    "\n",
    "dev.off()\n",
    "\n",
    "\n",
    "\n",
    "## classify cells as DDX56+ and DDX56-\n",
    "## any cell with DDX56 expression >0 classified as DDX56+\n",
    "\n",
    "BTSC@meta.data$DDX56_class <- ifelse(BTSC@data[grep(\"DDX56\", rownames(BTSC@data)), ] > 0,\n",
    "                                     \"DDX56+\",\n",
    "                                     \"DDX56-\"\n",
    "                                    \n",
    "                                    )\n",
    "table(BTSC@meta.data$DDX56_class)\n",
    "BTSC@ident <- factor(BTSC@meta.data$DDX56_class)\n",
    "BTSC@ident[1:5]\n",
    "\n",
    "## DDX56- = 2560 cells\n",
    "## DDX56+ = 1185 cells"
   ]
  },
  {
   "cell_type": "markdown",
   "metadata": {},
   "source": [
    "---\n",
    "## 2.0 Co-expression of DDX56 and genes of interest\n",
    "---\n",
    "\n",
    "'G523_DDX56_coexpression.pdf'\n",
    "\n",
    "Genes of interest:  \n",
    "SOX2, IFNB1, TNFa, Il8, Rantes and Isg56\n",
    "\n",
    "---\n",
    "IFNB1 is not in the single cell data frame, other IF genes in the data are:  \"IFFO2\"   \"IFI6\"    \"IFI44\"   \"IFI16\"   \"IFT172\"  \"IFRD2\"   \"IFT57\"\n",
    " \"IFT122\"  \"IFT80\"   \"IFNGR1\"  \"IFT22\"   \"IFRD1\"   \"IFT74\"   \"IFITM2\" \"IFITM3\"  \"IFT46\"   \"IFIT2\"   \"IFIT3\"   \"IFIT1\"   \"IFIT5\"   \"IFFO1\" \"IFT81\"   \"IFT88\"   \"IFT43\"   \"IFI27L1\" \"IFI27\"   \"IFI27L2\" \"IFT140\" \"IFT20\"   \"IFI35\"   \"IFT52\"   \"IFI30\"   \"IFT27\"   \"IFNAR2\"  \"IFNAR1\" \"IFNGR2\"\n",
    " \n",
    " Not sure which TNFa gene is being referred to, these are the ones in the data: \"TNFRSF1B\"  \"TNFAIP6\"   \"TNFRSF21\"  \"TNFAIP3\"   \"TNFRSF10B\" \"TNFRSF1A\" \"TNFRSF19\"  \"TNFRSF12A\" \"TNFSF12\"   \"TNFAIP1\"   \"TNFAIP8L1\" \"TNFSF9\". \n",
    " \n",
    " IL8 (aka CXCL8) is not detected in the data.\n",
    " \n",
    " RANTES (aka CCL5) is not detected in the data. \n",
    " \n",
    " "
   ]
  },
  {
   "cell_type": "code",
   "execution_count": null,
   "metadata": {
    "collapsed": true
   },
   "outputs": [],
   "source": [
    "genes <- c(\"SOX2\", \n",
    "          rownames(BTSC@data)[grep(\"^TNF\", rownames(BTSC@data))], #include all the TNFs\n",
    "           \"EGFR\",\n",
    "           \"IFIT1\" #alternate name for ISG56\n",
    "           )\n",
    "           \n",
    "           \n",
    "### co-expression plots\n",
    "\n",
    "pdf(\"G523_DDX56_coexpression.pdf\")\n",
    "\n",
    "for(i in 1:length(genes)){\n",
    "    \n",
    "#coexpression plor\n",
    "\n",
    "a <- plot(BTSC@data[\"DDX56\", ],\n",
    "         BTSC@data[genes[i], ],\n",
    "         xlab = \"Normalized DDX56 Expression\",\n",
    "         ylab = paste0(\"Normalized \", genes[i], \" Expression\") ,\n",
    "         main = \"G523_L\"\n",
    "        )\n",
    "print(a)\n",
    "    \n",
    "#compare expression between DDX56+/- cells\n",
    "\n",
    "x1 <- BTSC@data[genes[i], BTSC@ident == \"DDX56+\"]\n",
    "x2 <- BTSC@data[genes[i], BTSC@ident == \"DDX56-\"]\n",
    "\n",
    "vioplot(x1, \n",
    "        x2,\n",
    "        names=c(\"DDX56+\", \"DDX56\"), \n",
    "        col=c(\"white\", \"grey\"),\n",
    "        ylab = \"Normalized Expression\"\n",
    "       )\n",
    "title(paste0(\"G523_L: \", genes[i]))\n",
    "    \n",
    "}\n",
    "\n",
    "#plot all genes as heatmap\n",
    "\n",
    "DoHeatmap(BTSC,\n",
    "          genes.use = genes,\n",
    "          group.by = \"ident\",\n",
    "          remove.key = FALSE,\n",
    "          cex.col = 0\n",
    "         )\n",
    "\n",
    "\n",
    "dev.off()"
   ]
  },
  {
   "cell_type": "markdown",
   "metadata": {
    "collapsed": true
   },
   "source": [
    "---\n",
    "## 3.0 Compare EGFR expression between DDX56/SOX2 states\n",
    "---\n",
    "\n",
    "\"G523_DDX56_SOX2_EGFR.pdf\""
   ]
  },
  {
   "cell_type": "code",
   "execution_count": null,
   "metadata": {
    "collapsed": true
   },
   "outputs": [],
   "source": [
    "## identify DDX56+/SOX2- cells\n",
    "\n",
    "DDX56_SOX2 <- NULL\n",
    "DDX56_SOX2[BTSC@data[\"DDX56\", ] > 0 & BTSC@data[\"SOX2\", ] > 0] <- \"DDX56+SOX2+\"\n",
    "DDX56_SOX2[BTSC@data[\"DDX56\", ] > 0 & BTSC@data[\"SOX2\", ] == 0] <- \"DDX56+SOX2-\"    \n",
    "DDX56_SOX2[BTSC@data[\"DDX56\", ] == 0 & BTSC@data[\"SOX2\", ] > 0] <- \"DDX56-SOX2+\"   \n",
    "DDX56_SOX2[BTSC@data[\"DDX56\", ] == 0 & BTSC@data[\"SOX2\", ] == 0] <- \"DDX56-SOX2-\"   \n",
    "\n",
    "BTSC@meta.data$DDX56_SOX2_class <- DDX56_SOX2\n",
    "\n",
    "table(BTSC@meta.data$DDX56_SOX2_class)\n",
    "\n",
    "BTSC@ident <- factor(BTSC@meta.data$DDX56_SOX2_class)\n",
    "table(BTSC@ident)\n",
    "\n",
    "BTSC <- SetIdent(BTSC, id = factor(BTSC@meta.data$DDX56_SOX2_class))\n",
    "\n",
    "####DDX56-SOX2+ DDX56+SOX2- DDX56+SOX2+  DDX56-SOX2-\n",
    "###      2533          16        1169        27    cells\n",
    "\n",
    "## not plot EGFR between groups\n",
    "\n",
    "x1 <- BTSC@data[\"EGFR\", BTSC@ident == \"DDX56+SOX2+\"]\n",
    "x2 <- BTSC@data[\"EGFR\", BTSC@ident == \"DDX56-SOX2+\"]\n",
    "x3 <- BTSC@data[\"EGFR\", BTSC@ident == \"DDX56+SOX2-\"]\n",
    "x4 <- BTSC@data[\"EGFR\", BTSC@ident == \"DDX56-SOX2-\"]\n",
    "\n",
    "pdf(\"G523_DDX56_SOX2_EGFR.pdf\")\n",
    "\n",
    "vioplot(x1, \n",
    "        x2,\n",
    "        x3,\n",
    "        x4,\n",
    "        names=c(\"DDX56+SOX2+\",\"DDX56-SOX2+\", \"DDX56+SOX2-\", \"DDX56-SOX2-\"), \n",
    "        col=c(\"white\"),\n",
    "        ylab = \"Normalized Expression\"\n",
    "       )\n",
    "title(paste0(\"G523_L: \", \"EGFR\"))\n",
    " \n",
    "dev.off()\n"
   ]
  },
  {
   "cell_type": "markdown",
   "metadata": {},
   "source": [
    "---\n",
    "## 4.0 Differential Gene Expression Analysis\n",
    "---\n",
    "\n",
    "\"DE_top10genes_heatmap.pdf\"\n",
    "\n",
    "\n",
    "Differential gene expression of DDX56+SOX2+ cells versus single negative or double negative in G523 (output list of DE genes in csv, and visualize in heatmap).....There are not enough double negative cells to do this anlaysis (only 27)\n",
    "\n",
    "Insead I will do DE analysis of each group versus all other cells. "
   ]
  },
  {
   "cell_type": "code",
   "execution_count": null,
   "metadata": {
    "collapsed": true
   },
   "outputs": [],
   "source": [
    "### DDX56+SOX2+ versus all other cells\n",
    "\n",
    "DE.genes <- FindAllMarkers(BTSC, \n",
    "                           min.pct = 0.5, #gene must be in at leat 50% of cells in wither group\n",
    "                           only.pos = TRUE #only report positive markers for each group\n",
    "                          )\n",
    "write.csv(DE.genes, file = \"DDX56_SOX2_DE_Genes.csv\")\n",
    "\n",
    "top10 <- DE.genes %>% group_by(cluster) %>% top_n(10, avg_logFC)\n",
    "\n",
    "pdf(\"DE_top10genes_heatmap.pdf\") \n",
    "#this look bad because of small numbers in some groups of cells\n",
    "\n",
    "DoHeatmap(object = BTSC, \n",
    "          genes.use = top10$gene, \n",
    "          slim.col.label = TRUE, \n",
    "          remove.key = FALSE\n",
    "         )\n",
    "\n",
    "dev.off()\n",
    "\n",
    "## note: most of the genes from the DE analysis are not significant when p vlaue is adjusted\n",
    "\n"
   ]
  }
 ],
 "metadata": {
  "kernelspec": {
   "display_name": "R",
   "language": "R",
   "name": "ir"
  },
  "language_info": {
   "codemirror_mode": "r",
   "file_extension": ".r",
   "mimetype": "text/x-r-source",
   "name": "R",
   "pygments_lexer": "r",
   "version": "3.6.3"
  }
 },
 "nbformat": 4,
 "nbformat_minor": 2
}
